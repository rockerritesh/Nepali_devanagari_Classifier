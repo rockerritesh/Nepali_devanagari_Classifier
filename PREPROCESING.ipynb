{
 "cells": [
  {
   "cell_type": "code",
   "execution_count": 1,
   "id": "8671a730",
   "metadata": {},
   "outputs": [],
   "source": [
    "import pandas as pd\n",
    "import numpy as np\n",
    "from PIL import Image\n",
    "import matplotlib.pyplot as plt\n",
    "import torch"
   ]
  },
  {
   "cell_type": "code",
   "execution_count": 12,
   "id": "81f6241f",
   "metadata": {
    "scrolled": true
   },
   "outputs": [
    {
     "name": "stdout",
     "output_type": "stream",
     "text": [
      "Traning_data\n",
      "character_34_chhya\n",
      "character_17_tha\n",
      "character_3_ga\n",
      "character_30_motosaw\n",
      "character_26_yaw\n",
      "character_36_gya\n",
      "character_31_petchiryakha\n",
      "character_23_ba\n",
      "character_28_la\n",
      "character_35_tra\n",
      "character_27_ra\n",
      "character_1_ka\n",
      "character_20_na\n",
      "character_2_kha\n",
      "character_15_adna\n",
      "character_19_dha\n",
      "character_16_tabala\n",
      "character_21_pa\n",
      "character_8_ja\n",
      "character_4_gha\n",
      "character_6_cha\n",
      "character_10_yna\n",
      "character_12_thaa\n",
      "character_5_kna\n",
      "character_32_patalosaw\n",
      "character_14_dhaa\n",
      "character_7_chha\n",
      "character_9_jha\n",
      "character_24_bha\n",
      "character_29_waw\n",
      "character_25_ma\n",
      "character_22_pha\n",
      "character_33_ha\n",
      "character_13_daa\n",
      "character_11_taamatar\n",
      "character_18_da\n",
      "Test_data\n",
      "character_34_chhya\n",
      "character_17_tha\n",
      "character_3_ga\n",
      "character_30_motosaw\n",
      "character_26_yaw\n",
      "character_36_gya\n",
      "character_31_petchiryakha\n",
      "character_23_ba\n",
      "character_28_la\n",
      "character_35_tra\n",
      "character_27_ra\n",
      "character_1_ka\n",
      "character_20_na\n",
      "character_2_kha\n",
      "character_15_adna\n",
      "character_19_dha\n",
      "character_16_tabala\n",
      "character_21_pa\n",
      "character_8_ja\n",
      "character_4_gha\n",
      "character_6_cha\n",
      "character_10_yna\n",
      "character_12_thaa\n",
      "character_5_kna\n",
      "character_32_patalosaw\n",
      "character_14_dhaa\n",
      "character_7_chha\n",
      "character_9_jha\n",
      "character_24_bha\n",
      "character_29_waw\n",
      "character_25_ma\n",
      "character_22_pha\n"
     ]
    },
    {
     "ename": "IsADirectoryError",
     "evalue": "[Errno 21] Is a directory: 'data/Test_data/character_22_pha/character_1_ka'",
     "output_type": "error",
     "traceback": [
      "\u001b[0;31m---------------------------------------------------------------------------\u001b[0m",
      "\u001b[0;31mIsADirectoryError\u001b[0m                         Traceback (most recent call last)",
      "Input \u001b[0;32mIn [12]\u001b[0m, in \u001b[0;36m<cell line: 7>\u001b[0;34m()\u001b[0m\n\u001b[1;32m     11\u001b[0m \u001b[38;5;28;01mfor\u001b[39;00m file \u001b[38;5;129;01min\u001b[39;00m os\u001b[38;5;241m.\u001b[39mlistdir(\u001b[38;5;124mf\u001b[39m\u001b[38;5;124m'\u001b[39m\u001b[38;5;124mdata/\u001b[39m\u001b[38;5;132;01m{\u001b[39;00mfolder\u001b[38;5;132;01m}\u001b[39;00m\u001b[38;5;124m/\u001b[39m\u001b[38;5;132;01m{\u001b[39;00mclass_folder\u001b[38;5;132;01m}\u001b[39;00m\u001b[38;5;124m'\u001b[39m):\n\u001b[1;32m     12\u001b[0m     i \u001b[38;5;241m+\u001b[39m\u001b[38;5;241m=\u001b[39m \u001b[38;5;241m1\u001b[39m\n\u001b[0;32m---> 13\u001b[0m     image \u001b[38;5;241m=\u001b[39m \u001b[43mImage\u001b[49m\u001b[38;5;241;43m.\u001b[39;49m\u001b[43mopen\u001b[49m\u001b[43m(\u001b[49m\u001b[38;5;124;43mf\u001b[39;49m\u001b[38;5;124;43m'\u001b[39;49m\u001b[38;5;124;43mdata/\u001b[39;49m\u001b[38;5;132;43;01m{\u001b[39;49;00m\u001b[43mfolder\u001b[49m\u001b[38;5;132;43;01m}\u001b[39;49;00m\u001b[38;5;124;43m/\u001b[39;49m\u001b[38;5;132;43;01m{\u001b[39;49;00m\u001b[43mclass_folder\u001b[49m\u001b[38;5;132;43;01m}\u001b[39;49;00m\u001b[38;5;124;43m/\u001b[39;49m\u001b[38;5;132;43;01m{\u001b[39;49;00m\u001b[43mfile\u001b[49m\u001b[38;5;132;43;01m}\u001b[39;49;00m\u001b[38;5;124;43m'\u001b[39;49m\u001b[43m)\u001b[49m\n\u001b[1;32m     14\u001b[0m     image \u001b[38;5;241m=\u001b[39m np\u001b[38;5;241m.\u001b[39marray(image)\n\u001b[1;32m     15\u001b[0m     array\u001b[38;5;241m.\u001b[39mappend(image)\n",
      "File \u001b[0;32m/usr/lib/python3.10/site-packages/PIL/Image.py:3131\u001b[0m, in \u001b[0;36mopen\u001b[0;34m(fp, mode, formats)\u001b[0m\n\u001b[1;32m   3128\u001b[0m     filename \u001b[38;5;241m=\u001b[39m fp\n\u001b[1;32m   3130\u001b[0m \u001b[38;5;28;01mif\u001b[39;00m filename:\n\u001b[0;32m-> 3131\u001b[0m     fp \u001b[38;5;241m=\u001b[39m \u001b[43mbuiltins\u001b[49m\u001b[38;5;241;43m.\u001b[39;49m\u001b[43mopen\u001b[49m\u001b[43m(\u001b[49m\u001b[43mfilename\u001b[49m\u001b[43m,\u001b[49m\u001b[43m \u001b[49m\u001b[38;5;124;43m\"\u001b[39;49m\u001b[38;5;124;43mrb\u001b[39;49m\u001b[38;5;124;43m\"\u001b[39;49m\u001b[43m)\u001b[49m\n\u001b[1;32m   3132\u001b[0m     exclusive_fp \u001b[38;5;241m=\u001b[39m \u001b[38;5;28;01mTrue\u001b[39;00m\n\u001b[1;32m   3134\u001b[0m \u001b[38;5;28;01mtry\u001b[39;00m:\n",
      "\u001b[0;31mIsADirectoryError\u001b[0m: [Errno 21] Is a directory: 'data/Test_data/character_22_pha/character_1_ka'"
     ]
    }
   ],
   "source": [
    "import os\n",
    "i = 0\n",
    "df = pd.DataFrame(columns= ['array', 'class', 'data'])\n",
    "array = []\n",
    "classes = []\n",
    "data= []\n",
    "for folder in os.listdir('data'):\n",
    "    print(folder)\n",
    "    for class_folder in os.listdir(f'data/{folder}'):\n",
    "        print(class_folder)\n",
    "        for file in os.listdir(f'data/{folder}/{class_folder}'):\n",
    "            i += 1\n",
    "            image = Image.open(f'data/{folder}/{class_folder}/{file}')\n",
    "            image = np.array(image)\n",
    "            array.append(image)\n",
    "            classes.append(class_folder)\n",
    "            data.append(folder)\n",
    "        "
   ]
  },
  {
   "cell_type": "code",
   "execution_count": 13,
   "id": "acddc479",
   "metadata": {},
   "outputs": [
    {
     "data": {
      "text/plain": [
       "(70578, 32, 32)"
      ]
     },
     "execution_count": 13,
     "metadata": {},
     "output_type": "execute_result"
    }
   ],
   "source": [
    "array = np.array(array)\n",
    "array.shape"
   ]
  },
  {
   "cell_type": "code",
   "execution_count": 18,
   "id": "33620439",
   "metadata": {},
   "outputs": [],
   "source": [
    "arr = array.reshape(70578,1024)"
   ]
  },
  {
   "cell_type": "code",
   "execution_count": 19,
   "id": "7efb105d",
   "metadata": {
    "scrolled": true
   },
   "outputs": [
    {
     "data": {
      "text/plain": [
       "<matplotlib.image.AxesImage at 0x7f93f0a96530>"
      ]
     },
     "execution_count": 19,
     "metadata": {},
     "output_type": "execute_result"
    },
    {
     "data": {
      "image/png": "[encoded data removed]",
      "text/plain": [
       "<Figure size 432x288 with 1 Axes>"
      ]
     },
     "metadata": {
      "needs_background": "light"
     },
     "output_type": "display_data"
    }
   ],
   "source": [
    "plt.imshow(arr[3000].reshape(32,32))"
   ]
  },
  {
   "cell_type": "code",
   "execution_count": 20,
   "id": "bcdd68b4",
   "metadata": {},
   "outputs": [],
   "source": [
    "#array[0].shape"
   ]
  },
  {
   "cell_type": "code",
   "execution_count": 8,
   "id": "6e65dbd1",
   "metadata": {},
   "outputs": [],
   "source": [
    "X = arr\n",
    "Y = classes"
   ]
  },
  {
   "cell_type": "code",
   "execution_count": 9,
   "id": "36f05a67",
   "metadata": {
    "scrolled": true
   },
   "outputs": [
    {
     "data": {
      "text/plain": [
       "array([[0, 0, 0, ..., 0, 0, 0],\n",
       "       [0, 0, 0, ..., 0, 0, 0],\n",
       "       [0, 0, 0, ..., 0, 0, 0],\n",
       "       ...,\n",
       "       [0, 0, 0, ..., 0, 0, 0],\n",
       "       [0, 0, 0, ..., 0, 0, 0],\n",
       "       [0, 0, 0, ..., 0, 0, 0]], dtype=uint8)"
      ]
     },
     "execution_count": 9,
     "metadata": {},
     "output_type": "execute_result"
    }
   ],
   "source": [
    "X"
   ]
  },
  {
   "cell_type": "code",
   "execution_count": 68,
   "id": "185364a9",
   "metadata": {},
   "outputs": [],
   "source": [
    "#X = np.array(X)"
   ]
  },
  {
   "cell_type": "code",
   "execution_count": 71,
   "id": "b4586d81",
   "metadata": {},
   "outputs": [],
   "source": [
    "'''train = []\n",
    "for x in X:\n",
    "    xxx = []\n",
    "    for xx in x:\n",
    "        xxx.append(xx)\n",
    "    train.append(xxx)'''"
   ]
  },
  {
   "cell_type": "code",
   "execution_count": 72,
   "id": "18c608a4",
   "metadata": {},
   "outputs": [
    {
     "data": {
      "text/plain": [
       "(70578, 17)"
      ]
     },
     "execution_count": 72,
     "metadata": {},
     "output_type": "execute_result"
    }
   ],
   "source": [
    "'''train = np.array(train)\n",
    "train.shape'''"
   ]
  },
  {
   "cell_type": "code",
   "execution_count": 28,
   "id": "2db3321a",
   "metadata": {},
   "outputs": [],
   "source": [
    "'''x = []\n",
    "for xx in X:\n",
    "    \n",
    "    x.append(xx)'''"
   ]
  },
  {
   "cell_type": "code",
   "execution_count": 8,
   "id": "d2fc40c6",
   "metadata": {},
   "outputs": [],
   "source": [
    "#X = np.array(X)\n",
    "#X.shape"
   ]
  },
  {
   "cell_type": "code",
   "execution_count": 9,
   "id": "1f9a9f47",
   "metadata": {},
   "outputs": [],
   "source": [
    "#x = x.reshape(70578,1024)\n",
    "#x"
   ]
  },
  {
   "cell_type": "code",
   "execution_count": 61,
   "id": "7f8f0036",
   "metadata": {},
   "outputs": [
    {
     "data": {
      "text/plain": [
       "array([['[0 0 0 ... 0 0 0]'],\n",
       "       ['[0 0 0 ... 0 0 0]'],\n",
       "       ['[0 0 0 ... 0 0 0]'],\n",
       "       ...,\n",
       "       ['[0 0 0 ... 0 0 0]'],\n",
       "       ['[0 0 0 ... 0 0 0]'],\n",
       "       ['[0 0 0 ... 0 0 0]']], dtype=object)"
      ]
     },
     "execution_count": 61,
     "metadata": {},
     "output_type": "execute_result"
    }
   ],
   "source": [
    "#X.reshape(70578,1)"
   ]
  },
  {
   "cell_type": "code",
   "execution_count": 24,
   "id": "6398e489",
   "metadata": {},
   "outputs": [
    {
     "data": {
      "text/plain": [
       "(70578,)"
      ]
     },
     "execution_count": 24,
     "metadata": {},
     "output_type": "execute_result"
    }
   ],
   "source": [
    "'''x = np.array(x)\n",
    "x.shape'''"
   ]
  },
  {
   "cell_type": "code",
   "execution_count": 22,
   "id": "845b2343",
   "metadata": {},
   "outputs": [],
   "source": [
    "np.save('Y.npy',classes)"
   ]
  },
  {
   "cell_type": "code",
   "execution_count": 23,
   "id": "2000f443",
   "metadata": {},
   "outputs": [],
   "source": [
    "np.save('X.npy',arr)"
   ]
  },
  {
   "cell_type": "code",
   "execution_count": null,
   "id": "18458440",
   "metadata": {},
   "outputs": [],
   "source": []
  }
 ],
 "metadata": {
  "kernelspec": {
   "display_name": "Python 3 (ipykernel)",
   "language": "python",
   "name": "python3"
  },
  "language_info": {
   "codemirror_mode": {
    "name": "ipython",
    "version": 3
   },
   "file_extension": ".py",
   "mimetype": "text/x-python",
   "name": "python",
   "nbconvert_exporter": "python",
   "pygments_lexer": "ipython3",
   "version": "3.9.12"
  }
 },
 "nbformat": 4,
 "nbformat_minor": 5
}
