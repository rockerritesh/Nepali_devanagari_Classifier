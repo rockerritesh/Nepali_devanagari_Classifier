{
 "cells": [
  {
   "cell_type": "code",
   "execution_count": 1,
   "id": "fd1e12e3",
   "metadata": {},
   "outputs": [],
   "source": [
    "import numpy as np\n",
    "import torch\n",
    "import pandas as pd\n",
    "import matplotlib.pyplot as plt"
   ]
  },
  {
   "cell_type": "code",
   "execution_count": 2,
   "id": "50dc8113",
   "metadata": {},
   "outputs": [],
   "source": [
    "arr = np.load('X.npy')"
   ]
  },
  {
   "cell_type": "code",
   "execution_count": 3,
   "id": "16908073",
   "metadata": {},
   "outputs": [
    {
     "data": {
      "text/plain": [
       "(70578, 1024)"
      ]
     },
     "execution_count": 3,
     "metadata": {},
     "output_type": "execute_result"
    }
   ],
   "source": [
    "arr.shape"
   ]
  },
  {
   "cell_type": "code",
   "execution_count": 4,
   "id": "cd7b9459",
   "metadata": {},
   "outputs": [
    {
     "data": {
      "text/plain": [
       "<matplotlib.image.AxesImage at 0x7f07ab85e3a0>"
      ]
     },
     "execution_count": 4,
     "metadata": {},
     "output_type": "execute_result"
    },
    {
     "data": {
      "image/png": "[encoded data removed]",
      "text/plain": [
       "<Figure size 640x480 with 1 Axes>"
      ]
     },
     "metadata": {},
     "output_type": "display_data"
    }
   ],
   "source": [
    "plt.imshow(arr[450].reshape(32,32))"
   ]
  },
  {
   "cell_type": "code",
   "execution_count": 5,
   "id": "aa09b5fc",
   "metadata": {},
   "outputs": [],
   "source": [
    "y = np.load('Y.npy')"
   ]
  },
  {
   "cell_type": "code",
   "execution_count": 6,
   "id": "34a2bc5a",
   "metadata": {},
   "outputs": [
    {
     "data": {
      "text/plain": [
       "(70578,)"
      ]
     },
     "execution_count": 6,
     "metadata": {},
     "output_type": "execute_result"
    }
   ],
   "source": [
    "y.shape"
   ]
  },
  {
   "cell_type": "code",
   "execution_count": 7,
   "id": "a86b1aa9",
   "metadata": {},
   "outputs": [
    {
     "data": {
      "text/html": [
       "<style>#sk-container-id-1 {color: black;background-color: white;}#sk-container-id-1 pre{padding: 0;}#sk-container-id-1 div.sk-toggleable {background-color: white;}#sk-container-id-1 label.sk-toggleable__label {cursor: pointer;display: block;width: 100%;margin-bottom: 0;padding: 0.3em;box-sizing: border-box;text-align: center;}#sk-container-id-1 label.sk-toggleable__label-arrow:before {content: \"▸\";float: left;margin-right: 0.25em;color: #696969;}#sk-container-id-1 label.sk-toggleable__label-arrow:hover:before {color: black;}#sk-container-id-1 div.sk-estimator:hover label.sk-toggleable__label-arrow:before {color: black;}#sk-container-id-1 div.sk-toggleable__content {max-height: 0;max-width: 0;overflow: hidden;text-align: left;background-color: #f0f8ff;}#sk-container-id-1 div.sk-toggleable__content pre {margin: 0.2em;color: black;border-radius: 0.25em;background-color: #f0f8ff;}#sk-container-id-1 input.sk-toggleable__control:checked~div.sk-toggleable__content {max-height: 200px;max-width: 100%;overflow: auto;}#sk-container-id-1 input.sk-toggleable__control:checked~label.sk-toggleable__label-arrow:before {content: \"▾\";}#sk-container-id-1 div.sk-estimator input.sk-toggleable__control:checked~label.sk-toggleable__label {background-color: #d4ebff;}#sk-container-id-1 div.sk-label input.sk-toggleable__control:checked~label.sk-toggleable__label {background-color: #d4ebff;}#sk-container-id-1 input.sk-hidden--visually {border: 0;clip: rect(1px 1px 1px 1px);clip: rect(1px, 1px, 1px, 1px);height: 1px;margin: -1px;overflow: hidden;padding: 0;position: absolute;width: 1px;}#sk-container-id-1 div.sk-estimator {font-family: monospace;background-color: #f0f8ff;border: 1px dotted black;border-radius: 0.25em;box-sizing: border-box;margin-bottom: 0.5em;}#sk-container-id-1 div.sk-estimator:hover {background-color: #d4ebff;}#sk-container-id-1 div.sk-parallel-item::after {content: \"\";width: 100%;border-bottom: 1px solid gray;flex-grow: 1;}#sk-container-id-1 div.sk-label:hover label.sk-toggleable__label {background-color: #d4ebff;}#sk-container-id-1 div.sk-serial::before {content: \"\";position: absolute;border-left: 1px solid gray;box-sizing: border-box;top: 0;bottom: 0;left: 50%;z-index: 0;}#sk-container-id-1 div.sk-serial {display: flex;flex-direction: column;align-items: center;background-color: white;padding-right: 0.2em;padding-left: 0.2em;position: relative;}#sk-container-id-1 div.sk-item {position: relative;z-index: 1;}#sk-container-id-1 div.sk-parallel {display: flex;align-items: stretch;justify-content: center;background-color: white;position: relative;}#sk-container-id-1 div.sk-item::before, #sk-container-id-1 div.sk-parallel-item::before {content: \"\";position: absolute;border-left: 1px solid gray;box-sizing: border-box;top: 0;bottom: 0;left: 50%;z-index: -1;}#sk-container-id-1 div.sk-parallel-item {display: flex;flex-direction: column;z-index: 1;position: relative;background-color: white;}#sk-container-id-1 div.sk-parallel-item:first-child::after {align-self: flex-end;width: 50%;}#sk-container-id-1 div.sk-parallel-item:last-child::after {align-self: flex-start;width: 50%;}#sk-container-id-1 div.sk-parallel-item:only-child::after {width: 0;}#sk-container-id-1 div.sk-dashed-wrapped {border: 1px dashed gray;margin: 0 0.4em 0.5em 0.4em;box-sizing: border-box;padding-bottom: 0.4em;background-color: white;}#sk-container-id-1 div.sk-label label {font-family: monospace;font-weight: bold;display: inline-block;line-height: 1.2em;}#sk-container-id-1 div.sk-label-container {text-align: center;}#sk-container-id-1 div.sk-container {/* jupyter's `normalize.less` sets `[hidden] { display: none; }` but bootstrap.min.css set `[hidden] { display: none !important; }` so we also need the `!important` here to be able to override the default hidden behavior on the sphinx rendered scikit-learn.org. See: https://github.com/scikit-learn/scikit-learn/issues/21755 */display: inline-block !important;position: relative;}#sk-container-id-1 div.sk-text-repr-fallback {display: none;}</style><div id=\"sk-container-id-1\" class=\"sk-top-container\"><div class=\"sk-text-repr-fallback\"><pre>RidgeClassifier()</pre><b>In a Jupyter environment, please rerun this cell to show the HTML representation or trust the notebook. <br />On GitHub, the HTML representation is unable to render, please try loading this page with nbviewer.org.</b></div><div class=\"sk-container\" hidden><div class=\"sk-item\"><div class=\"sk-estimator sk-toggleable\"><input class=\"sk-toggleable__control sk-hidden--visually\" id=\"sk-estimator-id-1\" type=\"checkbox\" checked><label for=\"sk-estimator-id-1\" class=\"sk-toggleable__label sk-toggleable__label-arrow\">RidgeClassifier</label><div class=\"sk-toggleable__content\"><pre>RidgeClassifier()</pre></div></div></div></div></div>"
      ],
      "text/plain": [
       "RidgeClassifier()"
      ]
     },
     "execution_count": 7,
     "metadata": {},
     "output_type": "execute_result"
    }
   ],
   "source": [
    "from sklearn.linear_model import RidgeClassifier\n",
    "clf = RidgeClassifier()\n",
    "clf.fit(arr,y)"
   ]
  },
  {
   "cell_type": "code",
   "execution_count": 8,
   "id": "294e0574",
   "metadata": {},
   "outputs": [],
   "source": [
    "y_pred = clf.predict(arr)"
   ]
  },
  {
   "cell_type": "code",
   "execution_count": 9,
   "id": "9c4dcc8d",
   "metadata": {},
   "outputs": [
    {
     "data": {
      "text/plain": [
       "0.6103318314488935"
      ]
     },
     "execution_count": 9,
     "metadata": {},
     "output_type": "execute_result"
    }
   ],
   "source": [
    "from sklearn.metrics import classification_report, f1_score\n",
    "\n",
    "f1_score(y_pred, y,average='micro')"
   ]
  },
  {
   "cell_type": "code",
   "execution_count": 11,
   "id": "8aa25176",
   "metadata": {},
   "outputs": [],
   "source": [
    "import torch\n",
    "from torch import nn\n",
    "import torch.nn.functional as F"
   ]
  },
  {
   "cell_type": "code",
   "execution_count": 12,
   "id": "d8bc3f9b",
   "metadata": {},
   "outputs": [],
   "source": [
    "device = 'cuda' if torch.cuda.is_available() else 'cpu'"
   ]
  },
  {
   "cell_type": "code",
   "execution_count": 7,
   "id": "375665c9",
   "metadata": {},
   "outputs": [],
   "source": [
    "X = arr/255.0"
   ]
  },
  {
   "cell_type": "code",
   "execution_count": 8,
   "id": "978389c0",
   "metadata": {},
   "outputs": [],
   "source": [
    "Y = y"
   ]
  },
  {
   "cell_type": "code",
   "execution_count": 9,
   "id": "3df09580",
   "metadata": {},
   "outputs": [
    {
     "data": {
      "text/plain": [
       "((70578,), (70578, 1024))"
      ]
     },
     "execution_count": 9,
     "metadata": {},
     "output_type": "execute_result"
    }
   ],
   "source": [
    "Y.shape, X.shape"
   ]
  },
  {
   "cell_type": "code",
   "execution_count": 10,
   "id": "baa4191f",
   "metadata": {},
   "outputs": [],
   "source": [
    "from sklearn.model_selection import train_test_split"
   ]
  },
  {
   "cell_type": "code",
   "execution_count": 11,
   "id": "db767187",
   "metadata": {},
   "outputs": [],
   "source": [
    "X_train, X_test, y_train, y_test = train_test_split(X, y, test_size=0.25, random_state=42)"
   ]
  },
  {
   "cell_type": "code",
   "execution_count": 12,
   "id": "fcae501c",
   "metadata": {},
   "outputs": [],
   "source": [
    "def plot_example(X, y):\n",
    "    \"\"\"Plot the first 5 images and their labels in a row.\"\"\"\n",
    "    for i, (img, y) in enumerate(zip(X[:5].reshape(5, 32, 32), y[:5])):\n",
    "        plt.subplot(151 + i)\n",
    "        plt.imshow(img)\n",
    "        plt.xticks([])\n",
    "        plt.yticks([])\n",
    "        plt.title(y)"
   ]
  },
  {
   "cell_type": "code",
   "execution_count": 13,
   "id": "720ceb05",
   "metadata": {},
   "outputs": [
    {
     "data": {
      "image/png": "[encoded data removed]",
      "text/plain": [
       "<Figure size 640x480 with 5 Axes>"
      ]
     },
     "metadata": {},
     "output_type": "display_data"
    }
   ],
   "source": [
    "plot_example(X_train, y_train)"
   ]
  },
  {
   "cell_type": "code",
   "execution_count": 63,
   "id": "93b5a6ea",
   "metadata": {},
   "outputs": [],
   "source": [
    "from sklearn.linear_model import LogisticRegression\n",
    "from sklearn.svm import SVC\n",
    "from sklearn.ensemble import RandomForestClassifier\n",
    "from sklearn.neighbors import KNeighborsClassifier\n",
    "from sklearn.naive_bayes import BernoulliNB\n",
    "clf = RandomForestClassifier()\n",
    "#clf = KNeighborsClassifier(n_neighbors = 6)\n",
    "#clf = LogisticRegression()\n",
    "#clf = BernoulliNB()\n",
    "#clf = SVC()\n",
    "clf.fit(X_train, y_train)\n",
    "\n",
    "y_pred = clf.predict(X_test)"
   ]
  },
  {
   "cell_type": "code",
   "execution_count": 64,
   "id": "dd2988ed",
   "metadata": {},
   "outputs": [
    {
     "data": {
      "text/plain": [
       "(0.8925843561213566, 0.8924341173136866, 0.8919617919448789)"
      ]
     },
     "execution_count": 64,
     "metadata": {},
     "output_type": "execute_result"
    }
   ],
   "source": [
    "f1_score(y_pred, y_test, average='weighted' ), f1_score(y_pred, y_test, average='micro' ),f1_score(y_pred, y_test, average='macro' )"
   ]
  },
  {
   "cell_type": "code",
   "execution_count": 65,
   "id": "3cde56a3",
   "metadata": {},
   "outputs": [
    {
     "data": {
      "text/plain": [
       "'              precision    recall  f1-score   support\\n\\n           1       0.91      0.93      0.92       507\\n           2       0.95      0.92      0.94       426\\n           3       0.93      0.91      0.92       516\\n           4       0.89      0.87      0.88       420\\n           5       0.95      0.91      0.93       515\\n           6       0.93      0.89      0.91       527\\n           7       0.96      0.94      0.95       513\\n           8       0.85      0.87      0.86       477\\n           9       0.85      0.86      0.86       408\\n          10       0.85      0.88      0.87       491\\n          11       0.93      0.92      0.92       488\\n          12       0.92      0.85      0.88       551\\n          13       0.92      0.80      0.86       610\\n          14       0.95      0.88      0.91       480\\n          15       0.79      0.91      0.85       427\\n          16       0.88      0.92      0.90       483\\n          17       0.83      0.88      0.85       477\\n          18       0.84      0.81      0.83       495\\n          19       0.95      0.92      0.94       532\\n          20       0.93      0.94      0.93       529\\n          21       0.84      0.85      0.84       487\\n          22       0.87      0.92      0.89       482\\n          23       0.88      0.88      0.88       488\\n          24       0.91      0.81      0.86       515\\n          25       0.81      0.88      0.84       465\\n          26       0.82      0.92      0.87       353\\n          27       0.89      0.89      0.89       510\\n          28       0.91      0.90      0.90       517\\n          29       0.92      0.92      0.92       519\\n          30       0.90      0.92      0.91       450\\n          31       0.83      0.87      0.85       508\\n          32       0.87      0.92      0.90       487\\n          33       0.95      0.85      0.90       540\\n          34       0.85      0.90      0.87       466\\n          35       0.92      0.95      0.94       510\\n          36       0.93      0.95      0.94       476\\n\\n    accuracy                           0.89     17645\\n   macro avg       0.89      0.89      0.89     17645\\nweighted avg       0.89      0.89      0.89     17645\\n'"
      ]
     },
     "execution_count": 65,
     "metadata": {},
     "output_type": "execute_result"
    }
   ],
   "source": [
    "from sklearn.metrics import classification_report, f1_score\n",
    "y_pred = clf.predict(X_test)\n",
    "\n",
    "target_names = [ '1',  '2',  '3',  '4',  '5',  '6',  '7',  '8',  '9', '10', '11', '12', '13', '14', '15', '16', '17',\n",
    "       '18', '19', '20', '21', '22', '23', '24', '25', '26', '27', '28', '29', '30', '31', '32', '33', '34',\n",
    "       '35', '36']\n",
    "classification_report(y_pred,y_test,target_names=target_names)\n",
    "#print(f1_score(y_pred, y_test ,average='micro'))"
   ]
  },
  {
   "cell_type": "code",
   "execution_count": 67,
   "id": "222a7de3",
   "metadata": {},
   "outputs": [],
   "source": [
    "from sklearn.decomposition import PCA\n",
    "X_pca = PCA(n_components=300).fit_transform(X)"
   ]
  },
  {
   "cell_type": "code",
   "execution_count": 68,
   "id": "4ee5120e",
   "metadata": {},
   "outputs": [],
   "source": [
    "X_train, X_test, y_train, y_test = train_test_split(X_pca, y, test_size=0.25, random_state=42)"
   ]
  },
  {
   "cell_type": "code",
   "execution_count": 75,
   "id": "40e2e38a",
   "metadata": {},
   "outputs": [],
   "source": [
    "from sklearn.linear_model import LogisticRegression\n",
    "from sklearn.svm import SVC\n",
    "from sklearn.ensemble import RandomForestClassifier\n",
    "from sklearn.neighbors import KNeighborsClassifier\n",
    "from sklearn.naive_bayes import BernoulliNB\n",
    "#clf = RandomForestClassifier()\n",
    "clf = KNeighborsClassifier(n_neighbors = 3)\n",
    "#clf = LogisticRegression()\n",
    "#clf = BernoulliNB()\n",
    "#clf = SVC()\n",
    "clf.fit(X_train, y_train)\n",
    "\n",
    "y_pred = clf.predict(X_test)"
   ]
  },
  {
   "cell_type": "code",
   "execution_count": 76,
   "id": "67ab6449",
   "metadata": {},
   "outputs": [
    {
     "data": {
      "text/plain": [
       "(0.8914043989365603, 0.8930008500991783, 0.8939090974845807)"
      ]
     },
     "execution_count": 76,
     "metadata": {},
     "output_type": "execute_result"
    }
   ],
   "source": [
    "f1_score(y_pred, y_test, average='weighted' ), f1_score(y_pred, y_test, average='micro' ),f1_score(y_pred, y_test, average='macro' )\n"
   ]
  }
 ],
 "metadata": {
  "kernelspec": {
   "display_name": "Python 3 (ipykernel)",
   "language": "python",
   "name": "python3"
  },
  "language_info": {
   "codemirror_mode": {
    "name": "ipython",
    "version": 3
   },
   "file_extension": ".py",
   "mimetype": "text/x-python",
   "name": "python",
   "nbconvert_exporter": "python",
   "pygments_lexer": "ipython3",
   "version": "3.9.12"
  }
 },
 "nbformat": 4,
 "nbformat_minor": 5
}
